{
 "cells": [
  {
   "cell_type": "markdown",
   "metadata": {},
   "source": [
    "<center>\n",
    "    <img src=\"https://cf-courses-data.s3.us.cloud-object-storage.appdomain.cloud/IBMDeveloperSkillsNetwork-DS0105EN-SkillsNetwork/labs/Module2/images/SN_web_lightmode.png\" width=\"300\" alt=\"cognitiveclass.ai logo\">\n",
    "</center>\n"
   ]
  },
  {
   "cell_type": "markdown",
   "metadata": {},
   "source": [
    "# My Coursework for the Jupyter Assignment"
   ]
  },
  {
   "cell_type": "markdown",
   "metadata": {},
   "source": [
    "*In this assignment, I will complete the individual tasks prompted in the course instructions*"
   ]
  },
  {
   "cell_type": "markdown",
   "metadata": {},
   "source": [
    "*The most used languages for Data Science are the following:* **Julia, Python, R, and database languages like SQL**"
   ]
  },
  {
   "cell_type": "markdown",
   "metadata": {},
   "source": [
    "*The most used Data Science libraries used by python include* **NumPy** *for efficient mathematical computations*, **Pandas** *to allow the import of many different filetypes*, **SQL** *to provide an interface with databases*, **PyPlot** *for easy visualization of data*, and* **Tensorflow** *for AI model building and computations*."
   ]
  },
  {
   "cell_type": "markdown",
   "metadata": {},
   "source": [
    "*Here is a table of Data Science Tools for Data Collection, Data Visualization, Data Evaluation, and Data Cleaning:*\n",
    "\n",
    "|Data Science Tools|\n",
    "|:----------------:|\n",
    "|Jupyter Notebooks|\n",
    "|Cassandra|\n",
    "|MySQL|\n",
    "|Apache Kafka|\n",
    "|Kibana|\n",
    "|TensorFlow Service|"
   ]
  },
  {
   "cell_type": "markdown",
   "metadata": {},
   "source": [
    "*This is an example of mathematical expressions:*\n",
    "$$2\\int_{-1}^1 \\sqrt{1-x^2} \\,dx = \\pi$$"
   ]
  },
  {
   "cell_type": "code",
   "execution_count": 15,
   "metadata": {},
   "outputs": [
    {
     "name": "stdout",
     "output_type": "stream",
     "text": [
      "55\n",
      "110\n"
     ]
    }
   ],
   "source": [
    "# A code that adds up all numbers from 0 to n\n",
    "n = 10\n",
    "result = 0\n",
    "\n",
    "for i in range(1, n + 1):\n",
    "    result += i\n",
    "\n",
    "print(result)\n",
    "# Then multiply it by 2\n",
    "\n",
    "result *= 2\n",
    "print(result)"
   ]
  },
  {
   "cell_type": "markdown",
   "metadata": {},
   "source": [
    "*This code is equivalent to the following mathematical expression:*\n",
    "$$2\\sum_{k = 1}^n k$$"
   ]
  },
  {
   "cell_type": "code",
   "execution_count": 17,
   "metadata": {},
   "outputs": [
    {
     "name": "stdout",
     "output_type": "stream",
     "text": [
      "4 hours and 5 minutes\n"
     ]
    }
   ],
   "source": [
    "# Convert t minutes into hours\n",
    "\n",
    "t: int = 245\n",
    "\n",
    "h: int = t // 60\n",
    "m: int = t % 60\n",
    "\n",
    "print(\"{} hours and {} minutes\".format(h, m))"
   ]
  },
  {
   "cell_type": "markdown",
   "metadata": {},
   "source": [
    "*Here is a list of objectives for this assignment*\n",
    "\n",
    "- Create a markdown cell with the title of the notebook.\n",
    "- Create a markdown cell for an introduction.\n",
    "- Create a markdown cell to list data science languages.\n",
    "- Create a markdown cell to list data science libraries.\n",
    "- Create a markdown cell with a table of Data Science tools.\n",
    "- Create a markdown cell introducing arithmetic expression examples.\n",
    "- Create a code cell to multiply and add numbers.\n",
    "- Create a code cell to convert minutes to hours.\n",
    "- Insert a markdown cell to list Objectives.\n",
    "- Create a markdown cell to indicate the Author’s name.\n",
    "- Share your notebook through GitHub\n",
    "- Take a screenshot of the first page of the notebook."
   ]
  },
  {
   "cell_type": "markdown",
   "metadata": {},
   "source": [
    "*This assignment was written by* **P. L. Ferreira Herda**"
   ]
  },
  {
   "cell_type": "code",
   "execution_count": null,
   "metadata": {},
   "outputs": [],
   "source": []
  }
 ],
 "metadata": {
  "kernelspec": {
   "display_name": "Python",
   "language": "python",
   "name": "conda-env-python-py"
  },
  "language_info": {
   "codemirror_mode": {
    "name": "ipython",
    "version": 3
   },
   "file_extension": ".py",
   "mimetype": "text/x-python",
   "name": "python",
   "nbconvert_exporter": "python",
   "pygments_lexer": "ipython3",
   "version": "3.7.12"
  }
 },
 "nbformat": 4,
 "nbformat_minor": 4
}
